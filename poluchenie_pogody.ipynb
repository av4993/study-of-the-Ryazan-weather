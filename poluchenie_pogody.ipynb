{
 "cells": [
  {
   "cell_type": "code",
   "execution_count": 22,
   "id": "cc3a7daa",
   "metadata": {},
   "outputs": [],
   "source": [
    "from selenium.webdriver.common.by import By\n",
    "from selenium import webdriver\n",
    "from selenium.webdriver.firefox.options import Options as firefoxOptions\n",
    "import pandas as pd\n",
    "import numpy as np\n",
    "from bs4 import BeautifulSoup"
   ]
  },
  {
   "cell_type": "markdown",
   "id": "5e7323dc",
   "metadata": {},
   "source": [
    "### получение погоды\n",
    "**Рязань**(city_code=4394)"
   ]
  },
  {
   "cell_type": "code",
   "execution_count": 2,
   "id": "355c821a",
   "metadata": {},
   "outputs": [],
   "source": [
    "col = ['year', 'month', 'day', 'td', 'pd', 'cloudd', 'precipd', 'windd', 'tn', 'pn', 'cloudn', 'precipn', 'windn']"
   ]
  },
  {
   "cell_type": "code",
   "execution_count": 3,
   "id": "7f63cda0",
   "metadata": {},
   "outputs": [],
   "source": [
    "def get_year_weather(year, mon_st=1, mon_fin=12, city_code=4394):\n",
    "    \n",
    "    url = \"http://www.gismeteo.ru/diary\"\n",
    "    weather = []\n",
    "    month_start = mon_st\n",
    "    while month_start <= mon_fin:\n",
    "        options = firefoxOptions()\n",
    "        options.add_argument('--headless')\n",
    "        options.add_argument(\"--no-sandbox\")\n",
    "        \n",
    "        browser = webdriver.Firefox(options=options)\n",
    "        browser.get(f\"{url}/{city_code}/{year}/{month_start}/\")\n",
    "        \n",
    "        soup = BeautifulSoup(browser.page_source, 'html5lib')\n",
    "        table = soup.find('table')\n",
    "                \n",
    "        day = [year, month_start]\n",
    "        for i in table.find_all('td'):\n",
    "            if len(day) == 13:\n",
    "                weather.append(day)\n",
    "                day = [year, month_start]\n",
    "            if len(i.text) == 0 and i.find('img', class_='label_icon label_small screen_icon') is not None:\n",
    "                day.append(str(i.find('img', class_='label_icon label_small screen_icon'))[88:].strip('png\"/>').strip('.'))\n",
    "            elif len(i.text) == 0 and i.find('img', class_='label_icon label_small screen_icon') is None:\n",
    "                day.append(np.nan)\n",
    "            if len(i.text) != 0:\n",
    "                day.append(i.text)\n",
    "        weather.append(day)\n",
    "        \n",
    "        month_start += 1\n",
    "        browser.quit()\n",
    "    weather = pd.DataFrame(weather, columns=col)\n",
    "    weather.to_csv(f'{year}_{mon_st}_{mon_fin}.csv')\n",
    "    print(f'{year} done!')"
   ]
  },
  {
   "cell_type": "code",
   "execution_count": 7,
   "id": "5d4bff10",
   "metadata": {
    "scrolled": true
   },
   "outputs": [],
   "source": [
    "# get_year_weather(2023, mon_st=1, mon_fin=4); #"
   ]
  },
  {
   "cell_type": "markdown",
   "id": "57ce8b4a",
   "metadata": {},
   "source": [
    "##### и корректировка полученных данных с сохранением в new_data.csv"
   ]
  },
  {
   "cell_type": "code",
   "execution_count": 58,
   "id": "f7543e92",
   "metadata": {},
   "outputs": [],
   "source": [
    "# new_data = pd.read_csv('E:\\\\Jupyter\\\\pogoda\\\\NEW_weather\\\\1997.csv', index_col=0)\n",
    "# weather = pd.read_csv('E:\\Jupyter\\pogoda\\study-of-the-Ryazan-weather\\weather.csv')\n",
    "# years = weather['year'].unique()\n",
    "# for i in years[1:]:\n",
    "#      new_data = pd.concat([new_data, pd.read_csv(f'E:\\\\Jupyter\\\\pogoda\\\\NEW_weather\\\\{i}.csv', index_col=0)], axis=0)  "
   ]
  },
  {
   "cell_type": "code",
   "execution_count": 59,
   "id": "1aa8058c",
   "metadata": {},
   "outputs": [],
   "source": [
    "# new_data.insert(loc=7, column='wdird', value=new_data['windd'].apply(lambda x: x.split()[0]))\n",
    "# new_data.insert(loc=8, column='wsd', value=new_data['windd'].apply(lambda x: x.split()[1].strip('м/с') if len(x.split())==2 else 0))\n",
    "# new_data.insert(loc=15, column='wdirn', value=new_data['windn'].apply(lambda x: x.split()[0]))\n",
    "# new_data.insert(loc=16, column='wsn', value=new_data['windn'].apply(lambda x: x.split()[1].strip('м/с') if len(x.split())==2 else 0))\n",
    "# new_data = new_data.replace('still.gif', np.NAN)\n",
    "# new_data['td'] = new_data['td'].apply(lambda x: str(x).strip('+')).astype({'td': 'float'})\n",
    "# new_data['tn'] = new_data['tn'].apply(lambda x: str(x).strip('+')).astype({'tn': 'float'})"
   ]
  },
  {
   "cell_type": "code",
   "execution_count": 60,
   "id": "27f42a93",
   "metadata": {},
   "outputs": [],
   "source": [
    "# new_data['wsd'] = np.where(new_data['pd'].isna(), np.NAN, new_data['wsd'])\n",
    "# new_data['wsn'] = np.where(new_data['tn'].isna(), np.NAN, new_data['wsn'])\n",
    "# new_data['cloudd'] = np.where(new_data['cloudd']=='—', np.NAN, new_data['cloudd'])\n",
    "# new_data['cloudn'] = np.where(new_data['cloudn']=='—', np.NAN, new_data['cloudn'])\n",
    "# new_data.drop(labels=['windd','windn'], axis=1, inplace=True)"
   ]
  },
  {
   "cell_type": "code",
   "execution_count": 54,
   "id": "472ed9bf",
   "metadata": {},
   "outputs": [],
   "source": [
    "new_data.reset_index(drop=True).to_csv('new_data.csv')"
   ]
  },
  {
   "cell_type": "code",
   "execution_count": 55,
   "id": "e530d674",
   "metadata": {},
   "outputs": [],
   "source": [
    "new_data = pd.read_csv('new_data.csv', index_col=0)"
   ]
  },
  {
   "cell_type": "code",
   "execution_count": 61,
   "id": "ca10843c",
   "metadata": {},
   "outputs": [
    {
     "name": "stdout",
     "output_type": "stream",
     "text": [
      "<class 'pandas.core.frame.DataFrame'>\n",
      "Int64Index: 8943 entries, 0 to 8942\n",
      "Data columns (total 15 columns):\n",
      " #   Column   Non-Null Count  Dtype  \n",
      "---  ------   --------------  -----  \n",
      " 0   year     8943 non-null   int64  \n",
      " 1   month    8943 non-null   int64  \n",
      " 2   day      8943 non-null   int64  \n",
      " 3   td       8928 non-null   float64\n",
      " 4   pd       8928 non-null   float64\n",
      " 5   cloudd   8919 non-null   object \n",
      " 6   precipd  1352 non-null   object \n",
      " 7   wdird    8928 non-null   object \n",
      " 8   wsd      8928 non-null   float64\n",
      " 9   tn       8915 non-null   float64\n",
      " 10  pn       8915 non-null   float64\n",
      " 11  cloudn   8904 non-null   object \n",
      " 12  precipn  1201 non-null   object \n",
      " 13  wdirn    8915 non-null   object \n",
      " 14  wsn      8915 non-null   float64\n",
      "dtypes: float64(6), int64(3), object(6)\n",
      "memory usage: 1.1+ MB\n"
     ]
    }
   ],
   "source": [
    "new_data.info()"
   ]
  }
 ],
 "metadata": {
  "kernelspec": {
   "display_name": "Python 3 (ipykernel)",
   "language": "python",
   "name": "python3"
  },
  "language_info": {
   "codemirror_mode": {
    "name": "ipython",
    "version": 3
   },
   "file_extension": ".py",
   "mimetype": "text/x-python",
   "name": "python",
   "nbconvert_exporter": "python",
   "pygments_lexer": "ipython3",
   "version": "3.10.9"
  }
 },
 "nbformat": 4,
 "nbformat_minor": 5
}
