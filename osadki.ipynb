{
 "cells": [
  {
   "cell_type": "code",
   "execution_count": 1,
   "id": "65ecc5e9",
   "metadata": {},
   "outputs": [],
   "source": [
    "import pandas as pd\n",
    "import matplotlib.pyplot as plt\n",
    "import numpy as np\n",
    "import seaborn as sns\n",
    "from matplotlib.ticker import NullLocator, LinearLocator, MultipleLocator, IndexLocator, FixedLocator, LogLocator, MaxNLocator\n",
    "from matplotlib.ticker import NullFormatter, FormatStrFormatter, FuncFormatter, ScalarFormatter, FixedFormatter"
   ]
  },
  {
   "cell_type": "markdown",
   "id": "168c7ddc",
   "metadata": {},
   "source": [
    "# 1997 - 2006, 2009 - 2023 погода Рязань"
   ]
  },
  {
   "cell_type": "markdown",
   "id": "4a449743",
   "metadata": {},
   "source": [
    "# data\n",
    "данные обновлены 29.11.2023\n",
    "- t  - температура\n",
    "- p  - давление\n",
    "- cloud - облачность\n",
    "- precip - осадки/гроза\n",
    "- wdir - направление ветра\n",
    "- ws - скорость ветра \n",
    "<br> метка **d** в конце названия столбца указывает что данные **дневные**\n",
    "<br> метка **n** в конце названия столбца указывает что данные **ночные**"
   ]
  },
  {
   "cell_type": "code",
   "execution_count": 2,
   "id": "2bae27ae",
   "metadata": {},
   "outputs": [
    {
     "name": "stdout",
     "output_type": "stream",
     "text": [
      "<class 'pandas.core.frame.DataFrame'>\n",
      "Int64Index: 8912 entries, 0 to 8911\n",
      "Data columns (total 15 columns):\n",
      " #   Column   Non-Null Count  Dtype  \n",
      "---  ------   --------------  -----  \n",
      " 0   year     8912 non-null   int64  \n",
      " 1   month    8912 non-null   int64  \n",
      " 2   day      8912 non-null   int64  \n",
      " 3   td       8897 non-null   float64\n",
      " 4   pd       8897 non-null   float64\n",
      " 5   cloudd   8888 non-null   object \n",
      " 6   precipd  1342 non-null   object \n",
      " 7   wdird    8897 non-null   object \n",
      " 8   wsd      8897 non-null   float64\n",
      " 9   tn       8884 non-null   float64\n",
      " 10  pn       8884 non-null   float64\n",
      " 11  cloudn   8873 non-null   object \n",
      " 12  precipn  1189 non-null   object \n",
      " 13  wdirn    8884 non-null   object \n",
      " 14  wsn      8884 non-null   float64\n",
      "dtypes: float64(6), int64(3), object(6)\n",
      "memory usage: 1.1+ MB\n"
     ]
    }
   ],
   "source": [
    "data = pd.read_csv('data.csv', index_col='id')\n",
    "data.info()"
   ]
  },
  {
   "cell_type": "markdown",
   "id": "f318bdf5",
   "metadata": {},
   "source": [
    "**словари для меток координатных осей**"
   ]
  },
  {
   "cell_type": "code",
   "execution_count": 3,
   "id": "1a4deb51",
   "metadata": {},
   "outputs": [],
   "source": [
    "clouds = {'dull':'пасмурно', 'suncl':'облачно', 'sunc':'малооблачно','sun':'ясно'}\n",
    "precipitation = {'rain':'дождь', 'snow': 'снег', 'storm': 'гроза'}\n",
    "dictmonth = {1: {'a': 'Ян', 'f': 'Январь'}, \n",
    "             2: {'a': 'Фе', 'f': 'Февраль'}, \n",
    "             3: {'a': 'Март', 'f': 'Март'},\n",
    "             4: {'a': 'Ап', 'f': 'Апрель'},\n",
    "             5: {'a': 'Май', 'f': 'Май'},\n",
    "             6: {'a': 'Июнь', 'f': 'Июнь'},\n",
    "             7: {'a': 'Июль', 'f': 'Июль'},\n",
    "             8: {'a': 'Ав', 'f': 'Август'},\n",
    "             9: {'a': 'Се', 'f': 'Сентябрь'}, \n",
    "            10: {'a': 'Ок', 'f': 'Октябрь'},\n",
    "            11: {'a': 'Но', 'f': 'Ноябрь'},\n",
    "            12: {'a': 'Де', 'f': 'Декабрь'}}\n",
    "seasons = ['зима', 'весна', 'лето', 'осень']"
   ]
  },
  {
   "cell_type": "code",
   "execution_count": 4,
   "id": "caf57155",
   "metadata": {},
   "outputs": [
    {
     "data": {
      "text/plain": [
       "0.05262567324955117"
      ]
     },
     "execution_count": 4,
     "metadata": {},
     "output_type": "execute_result"
    }
   ],
   "source": [
    "# данные дневных и ночных осадков совпадают в 5% случаев\n",
    "(data.precipn == data.precipd).mean()"
   ]
  },
  {
   "cell_type": "markdown",
   "id": "0262853f",
   "metadata": {},
   "source": [
    "# 6. Осадки"
   ]
  },
  {
   "cell_type": "markdown",
   "id": "4f5f7d59",
   "metadata": {},
   "source": [
    "### 6.1 месяцы гроз"
   ]
  },
  {
   "cell_type": "code",
   "execution_count": 5,
   "id": "664731e6",
   "metadata": {},
   "outputs": [],
   "source": [
    "month_storm = data[data.precipd == 'storm'].groupby('month').precipd.count()"
   ]
  },
  {
   "cell_type": "code",
   "execution_count": 6,
   "id": "d2b33bcd",
   "metadata": {},
   "outputs": [
    {
     "data": {
      "image/png": "[encoded data removed]",
      "text/plain": [
       "<Figure size 640x480 with 1 Axes>"
      ]
     },
     "metadata": {},
     "output_type": "display_data"
    }
   ],
   "source": [
    "fig61 = plt.figure()\n",
    "ax_ms = fig61.add_subplot()\n",
    "ax_ms.bar(month_storm.index, height=month_storm)\n",
    "ax_ms.yaxis.set_major_locator(MaxNLocator(10))\n",
    "ax_ms.xaxis.set_major_locator(FixedLocator(month_storm.index))\n",
    "ax_ms.xaxis.set_major_formatter(FixedFormatter([dictmonth[i]['f'] for i in month_storm.index]))\n",
    "ax_ms.tick_params(axis ='x', size=2, labelsize=9)\n",
    "ax_ms.tick_params(axis ='y', size=2, labelsize=8)\n",
    "ax_ms.set_ylabel('количество случаев')\n",
    "ax_ms.grid(axis='y', linewidth=0.3)\n",
    "plt.title('количество гроз по месяцам');"
   ]
  }
 ],
 "metadata": {
  "kernelspec": {
   "display_name": "Python 3 (ipykernel)",
   "language": "python",
   "name": "python3"
  },
  "language_info": {
   "codemirror_mode": {
    "name": "ipython",
    "version": 3
   },
   "file_extension": ".py",
   "mimetype": "text/x-python",
   "name": "python",
   "nbconvert_exporter": "python",
   "pygments_lexer": "ipython3",
   "version": "3.10.9"
  }
 },
 "nbformat": 4,
 "nbformat_minor": 5
}
