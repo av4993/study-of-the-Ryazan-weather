{
 "cells": [
  {
   "cell_type": "code",
   "execution_count": 1,
   "id": "77ccff59",
   "metadata": {},
   "outputs": [],
   "source": [
    "import pandas as pd\n",
    "import matplotlib.pyplot as plt\n",
    "import numpy as np\n",
    "import seaborn as sns\n",
    "from matplotlib.ticker import NullLocator, LinearLocator, MultipleLocator, IndexLocator, FixedLocator, LogLocator, MaxNLocator\n",
    "from matplotlib.ticker import NullFormatter, FormatStrFormatter, FuncFormatter, ScalarFormatter, FixedFormatter"
   ]
  },
  {
   "cell_type": "markdown",
   "id": "89a74f2f",
   "metadata": {},
   "source": [
    "# 1997 - 2006, 2009 - 2023 погода Рязань"
   ]
  },
  {
   "cell_type": "markdown",
   "id": "5075d172",
   "metadata": {},
   "source": [
    "# все годы\n",
    "      t  - температура\n",
    "      p  - давление\n",
    "      ws - скорость ветра\n",
    "    wdir - направление ветра"
   ]
  },
  {
   "cell_type": "code",
   "execution_count": 2,
   "id": "b4f8c1ba",
   "metadata": {},
   "outputs": [
    {
     "data": {
      "text/plain": [
       "(8759, 6)"
      ]
     },
     "execution_count": 2,
     "metadata": {},
     "output_type": "execute_result"
    }
   ],
   "source": [
    "weather = pd.read_csv('weather.csv', index_col = ['year','month','day'])\n",
    "weather.shape"
   ]
  },
  {
   "cell_type": "markdown",
   "id": "528226ed",
   "metadata": {},
   "source": [
    "# Давление"
   ]
  }
 ],
 "metadata": {
  "kernelspec": {
   "display_name": "Python 3 (ipykernel)",
   "language": "python",
   "name": "python3"
  },
  "language_info": {
   "codemirror_mode": {
    "name": "ipython",
    "version": 3
   },
   "file_extension": ".py",
   "mimetype": "text/x-python",
   "name": "python",
   "nbconvert_exporter": "python",
   "pygments_lexer": "ipython3",
   "version": "3.10.9"
  }
 },
 "nbformat": 4,
 "nbformat_minor": 5
}
