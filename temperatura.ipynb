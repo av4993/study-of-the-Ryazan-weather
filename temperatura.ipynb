{
 "cells": [
  {
   "cell_type": "code",
   "execution_count": 1,
   "id": "77ccff59",
   "metadata": {},
   "outputs": [],
   "source": [
    "import pandas as pd\n",
    "import matplotlib.pyplot as plt\n",
    "import numpy as np\n",
    "import seaborn as sns\n",
    "from matplotlib.ticker import NullLocator, LinearLocator, MultipleLocator, IndexLocator, FixedLocator, LogLocator, MaxNLocator\n",
    "from matplotlib.ticker import NullFormatter, FormatStrFormatter, FuncFormatter, ScalarFormatter, FixedFormatter"
   ]
  },
  {
   "cell_type": "markdown",
   "id": "89a74f2f",
   "metadata": {},
   "source": [
    "# 1997 - 2006, 2009 - 2023 погода Рязань"
   ]
  },
  {
   "cell_type": "markdown",
   "id": "5075d172",
   "metadata": {},
   "source": [
    "# все годы\n",
    "      t  - температура\n",
    "      p  - давление\n",
    "      ws - скорость ветра\n",
    "    wdir - направление ветра"
   ]
  },
  {
   "cell_type": "code",
   "execution_count": 54,
   "id": "b4f8c1ba",
   "metadata": {},
   "outputs": [
    {
     "data": {
      "text/plain": [
       "(8759, 6)"
      ]
     },
     "execution_count": 54,
     "metadata": {},
     "output_type": "execute_result"
    }
   ],
   "source": [
    "weather = pd.read_csv('weather.csv', index_col = ['year','month','day'])\n",
    "weather.shape"
   ]
  },
  {
   "cell_type": "markdown",
   "id": "45adf248",
   "metadata": {},
   "source": [
    "# Температура"
   ]
  },
  {
   "cell_type": "markdown",
   "id": "19b2258c",
   "metadata": {},
   "source": [
    "### средняя и медианная температура"
   ]
  },
  {
   "cell_type": "code",
   "execution_count": 55,
   "id": "352da8ce",
   "metadata": {},
   "outputs": [
    {
     "name": "stdout",
     "output_type": "stream",
     "text": [
      "среднея температура днем составляет: 9.18℃, медианная дневная температура : 9.0\n",
      "среднея температура ночью составляет: 5.78℃, медианная ночная температура : 6.0\n"
     ]
    }
   ],
   "source": [
    "tmean = weather[['t(day)', 't(night)']].mean().round(2)\n",
    "tmedian = weather[['t(day)', 't(night)']].median().round(2)\n",
    "print('среднея температура днем составляет: ', tmean.loc['t(day)'], '\\u2103,', \n",
    "      ' медианная дневная температура : ', tmedian.loc['t(day)'],\n",
    "     '\\nсреднея температура ночью составляет: ', tmean.loc['t(night)'], '\\u2103,',\n",
    "     ' медианная ночная температура : ', tmedian.loc['t(night)'], sep='')"
   ]
  },
  {
   "cell_type": "markdown",
   "id": "b031bf6a",
   "metadata": {},
   "source": [
    "### максимальная и минимальная температура"
   ]
  },
  {
   "cell_type": "code",
   "execution_count": 56,
   "id": "32163210",
   "metadata": {},
   "outputs": [
    {
     "name": "stdout",
     "output_type": "stream",
     "text": [
      "максимальная температура днем: 39℃, ночью: 33℃\n",
      "минимальная температура днем: -29℃, ночью: -31℃\n"
     ]
    }
   ],
   "source": [
    "tmax = weather[['t(day)', 't(night)']].max()\n",
    "tmin = weather[['t(day)', 't(night)']].min()\n",
    "print('максимальная температура днем: ', tmax['t(day)'], '\\u2103, ночью: ', tmax['t(night)'], '\\u2103',\n",
    "      '\\nминимальная температура днем: ', tmin['t(day)'], '\\u2103, ночью: ', tmin['t(night)'], '\\u2103', sep='')"
   ]
  },
  {
   "cell_type": "markdown",
   "id": "ff263cac",
   "metadata": {},
   "source": [
    "##### даты максимальных температур"
   ]
  },
  {
   "cell_type": "code",
   "execution_count": 62,
   "id": "7228d79d",
   "metadata": {},
   "outputs": [
    {
     "name": "stdout",
     "output_type": "stream",
     "text": [
      "максимальная температура днем была: 29.7.2010 4.8.2010 6.8.2010 \n",
      "максимальная температура ночью была: 28.7.2010 "
     ]
    }
   ],
   "source": [
    "tmaxdaydate = weather[weather['t(day)'] == tmax['t(day)']].index\n",
    "print('максимальная температура днем была:', end=' ')\n",
    "[print(i[2],'.',i[1],'.', i[0], sep='', end=' ') for i in tmaxdaydate]\n",
    "tmaxnightdate = weather[weather['t(night)'] == tmax['t(night)']].index\n",
    "print('\\nмаксимальная температура ночью была:', end=' ')\n",
    "[print(i[2],'.',i[1],'.', i[0], sep='', end=' ') for i in tmaxnightdate];"
   ]
  },
  {
   "cell_type": "markdown",
   "id": "c8cb8b39",
   "metadata": {},
   "source": [
    "##### даты минимальных температур"
   ]
  },
  {
   "cell_type": "code",
   "execution_count": 63,
   "id": "fee2de7d",
   "metadata": {},
   "outputs": [
    {
     "name": "stdout",
     "output_type": "stream",
     "text": [
      "минимальная температура днем была: 18.1.2006 \n",
      "минимальная температура ночью была: 18.1.2006 "
     ]
    }
   ],
   "source": [
    "tmindaydate = weather[weather['t(day)'] == tmin['t(day)']].index\n",
    "print('минимальная температура днем была:', end=' ')\n",
    "[print(i[2],'.',i[1],'.', i[0], sep='', end=' ') for i in tmindaydate]\n",
    "tminnightdate = weather[weather['t(night)'] == tmin['t(night)']].index\n",
    "print('\\nминимальная температура ночью была:', end=' ')\n",
    "[print(i[2],'.',i[1],'.', i[0], sep='', end=' ') for i in tminnightdate];"
   ]
  }
 ],
 "metadata": {
  "kernelspec": {
   "display_name": "Python 3 (ipykernel)",
   "language": "python",
   "name": "python3"
  },
  "language_info": {
   "codemirror_mode": {
    "name": "ipython",
    "version": 3
   },
   "file_extension": ".py",
   "mimetype": "text/x-python",
   "name": "python",
   "nbconvert_exporter": "python",
   "pygments_lexer": "ipython3",
   "version": "3.10.9"
  }
 },
 "nbformat": 4,
 "nbformat_minor": 5
}
