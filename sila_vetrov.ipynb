{
 "cells": [
  {
   "cell_type": "code",
   "execution_count": 3,
   "id": "77ccff59",
   "metadata": {},
   "outputs": [],
   "source": [
    "import pandas as pd\n",
    "import matplotlib.pyplot as plt\n",
    "import numpy as np\n",
    "from matplotlib.lines import Line2D\n",
    "from matplotlib.ticker import NullLocator, LinearLocator, MultipleLocator, IndexLocator, FixedLocator, LogLocator, MaxNLocator\n",
    "from matplotlib.ticker import NullFormatter, FormatStrFormatter, FuncFormatter, ScalarFormatter, FixedFormatter"
   ]
  },
  {
   "cell_type": "markdown",
   "id": "89a74f2f",
   "metadata": {},
   "source": [
    "# 1997 - 2006, 2009 - 2023 погода Рязань¶"
   ]
  },
  {
   "cell_type": "markdown",
   "id": "5075d172",
   "metadata": {},
   "source": [
    "# все годы\n",
    "      t  - температура\n",
    "      p  - давление\n",
    "      ws - скорость ветра\n",
    "    wdir - направление ветра"
   ]
  },
  {
   "cell_type": "code",
   "execution_count": 4,
   "id": "b4f8c1ba",
   "metadata": {},
   "outputs": [
    {
     "data": {
      "text/plain": [
       "(8759, 6)"
      ]
     },
     "execution_count": 4,
     "metadata": {},
     "output_type": "execute_result"
    }
   ],
   "source": [
    "weather = pd.read_csv('study-of-the-Ryazan-weather/weather.csv', index_col = ['year','month','day'])\n",
    "weather.shape"
   ]
  },
  {
   "cell_type": "code",
   "execution_count": 88,
   "id": "0afa6773",
   "metadata": {},
   "outputs": [],
   "source": [
    "months = ['Ja', 'Fe', 'Ma', 'Ap', 'May', 'June', 'July', 'Au', 'Se', 'Oc', 'No', 'De']\n",
    "dictmonth = {1: {'a': 'Ян', 'f': 'Январь'}, \n",
    "             2: {'a': 'Фе', 'f': 'Февраль'}, \n",
    "             3: {'a': 'Март', 'f': 'Март'},\n",
    "             4: {'a': 'Ап', 'f': 'Апрель'},\n",
    "             5: {'a': 'Май', 'f': 'Май'},\n",
    "             6: {'a': 'Июнь', 'f': 'Июнь'},\n",
    "             7: {'a': 'Июль', 'f': 'Июль'},\n",
    "             8: {'a': 'Ав', 'f': 'Август'},\n",
    "             9: {'a': 'Се', 'f': 'Сентябрь'}, \n",
    "            10: {'a': 'Ок', 'f': 'Октябрь'},\n",
    "            11: {'a': 'Но', 'f': 'Ноябрь'},\n",
    "            12: {'a': 'Де', 'f': 'Декабрь'}}\n",
    "colors = ['#E7EB0A', '#1AD90D',\n",
    "          '#0722ED', '#a064b0', '#117E7D',\n",
    "          '#77877C',\n",
    "          '#E11414', '#E4800F', '#7E7711']"
   ]
  },
  {
   "cell_type": "markdown",
   "id": "ce54da75",
   "metadata": {},
   "source": [
    "# сила ветра"
   ]
  },
  {
   "cell_type": "markdown",
   "id": "1d36a711",
   "metadata": {},
   "source": [
    "#### средняя сила ветра, медиана скорости"
   ]
  },
  {
   "cell_type": "code",
   "execution_count": 6,
   "id": "9e17ec91",
   "metadata": {},
   "outputs": [
    {
     "name": "stdout",
     "output_type": "stream",
     "text": [
      "средняя скорость ветра в Рязани за отобранный период времени 2.79 м/с\n",
      "медиана скорости ветра 3.0 м/с\n"
     ]
    }
   ],
   "source": [
    "midspeed = weather['wspeed'].mean().round(2)\n",
    "print(f'средняя скорость ветра в Рязани за отобранный период времени {midspeed} м/с')\n",
    "medspeed = weather['wspeed'].median()\n",
    "print(f'медиана скорости ветра {medspeed} м/с')"
   ]
  },
  {
   "cell_type": "markdown",
   "id": "a9a8037e",
   "metadata": {},
   "source": [
    "###### средняя сила ветра по времени года"
   ]
  },
  {
   "cell_type": "code",
   "execution_count": 7,
   "id": "3419cc3c",
   "metadata": {},
   "outputs": [
    {
     "name": "stdout",
     "output_type": "stream",
     "text": [
      "средняя скорость:\n",
      "зимой: 2.82 \n",
      "весной: 3.18 \n",
      "летом: 2.49 \n",
      "осенью: 2.7\n",
      "\n",
      "медиана скорости:\n",
      "зимой: 2.74 \n",
      "весной: 3.26 \n",
      "летом: 2.42 \n",
      "осенью: 2.68\n"
     ]
    }
   ],
   "source": [
    "wsm = weather.groupby(['month']).agg({'wspeed':'mean'})\n",
    "print('средняя скорость:\\nзимой:', *wsm.loc[[12, 1, 2]].mean().round(2),\\\n",
    "      '\\nвесной:', *wsm.loc[[3, 4, 5]].mean().round(2),\\\n",
    "      '\\nлетом:', *wsm.loc[[6, 7, 8]].mean().round(2),\\\n",
    "      '\\nосенью:', *wsm.loc[[9, 10, 11]].mean().round(2))\n",
    "print('\\nмедиана скорости:\\nзимой:', *wsm.loc[[12, 1, 2]].median().round(2),\\\n",
    "      '\\nвесной:', *wsm.loc[[3, 4, 5]].median().round(2),\\\n",
    "      '\\nлетом:', *wsm.loc[[6, 7, 8]].median().round(2),\\\n",
    "      '\\nосенью:', *wsm.loc[[9, 10, 11]].median().round(2))"
   ]
  },
  {
   "cell_type": "markdown",
   "id": "90a26bed",
   "metadata": {},
   "source": [
    "###### средняя скорость ветра по месяцам"
   ]
  },
  {
   "cell_type": "code",
   "execution_count": 8,
   "id": "2d102944",
   "metadata": {},
   "outputs": [
    {
     "name": "stdout",
     "output_type": "stream",
     "text": [
      "Январь 2.74\n",
      "Февраль 2.98\n",
      "Март 3.26\n",
      "Апрель 3.27\n",
      "Май 3.01\n",
      "Июнь 2.63\n",
      "Июль 2.42\n",
      "Август 2.4\n",
      "Сентябрь 2.52\n",
      "Октябрь 2.89\n",
      "Ноябрь 2.68\n",
      "Декабрь 2.72\n"
     ]
    }
   ],
   "source": [
    "for i in wsm.index:\n",
    "    print(dictmonth[i]['f'], *wsm.loc[i].values.round(2))"
   ]
  },
  {
   "cell_type": "markdown",
   "id": "e7ac13a0",
   "metadata": {},
   "source": [
    "###### максимальная скорость"
   ]
  },
  {
   "cell_type": "code",
   "execution_count": 9,
   "id": "7ffa276b",
   "metadata": {},
   "outputs": [
    {
     "name": "stdout",
     "output_type": "stream",
     "text": [
      "7 Октябрь 2003 - 10 м/с\n"
     ]
    }
   ],
   "source": [
    "spmax = weather[weather['wspeed'] == weather['wspeed'].max()]\n",
    "print(spmax.index[0][2], dictmonth[spmax.index[0][1]]['f'], spmax.index[0][0], '-', *spmax['wspeed'].values, 'м/с')"
   ]
  },
  {
   "cell_type": "markdown",
   "id": "b96a894b",
   "metadata": {},
   "source": [
    "### средняя сила ветра по годам"
   ]
  },
  {
   "cell_type": "code",
   "execution_count": 13,
   "id": "2fb1f324",
   "metadata": {},
   "outputs": [
    {
     "data": {
      "image/png": "[encoded data removed]",
      "text/plain": [
       "<Figure size 1000x400 with 1 Axes>"
      ]
     },
     "metadata": {},
     "output_type": "display_data"
    }
   ],
   "source": [
    "midspeedyear = weather.groupby('year').agg({'wspeed':'mean'})\n",
    "fig8 = plt.figure(figsize=(10, 4))\n",
    "fig8.suptitle('средняя сила ветра по годам',x=0.52,y=0.92, fontsize=12)\n",
    "ax_msy = fig8.add_subplot()\n",
    "dwpy = pd.read_json('study-of-the-Ryazan-weather/napravlenie_vetrov/dir_wind_percent_year.json')\n",
    "s97po12 = dwpy.loc['Ш'][:14].mean().round(2)\n",
    "s13po23 = dwpy.loc['Ш'][14:].mean().round(2)\n",
    "ax_msy.bar(np.arange(len(midspeedyear.index.values)), height=midspeedyear['wspeed'].values)\n",
    "ax_msy.plot(np.arange(len(midspeedyear.index.values)), np.full(25, midspeed), label='средняя скорость ветра', c='r')\n",
    "ax_msy.xaxis.set_major_locator(FixedLocator(np.arange(len(midspeedyear.index.values))))\n",
    "ax_msy.xaxis.set_major_formatter(FixedFormatter([str(i)[2:] for i in midspeedyear.index.values]))\n",
    "ax_msy.text(8.2, 3.1, f'кажется с тринадцатого года наметилось снижение силы ветров\\\n",
    "\\nпроцентные показатели штилей практически идентичны ({s97po12}% и {s13po23}%)', fontsize=9)\n",
    "ax_msy.set_ylabel('метр/сек')\n",
    "ax_msy.legend(loc=3, framealpha=1);"
   ]
  },
  {
   "cell_type": "markdown",
   "id": "66363cbf",
   "metadata": {},
   "source": [
    "### средняя сила ветра по месяцам"
   ]
  },
  {
   "cell_type": "code",
   "execution_count": 64,
   "id": "e00d6169",
   "metadata": {},
   "outputs": [
    {
     "data": {
      "image/png": "[encoded data removed]",
      "text/plain": [
       "<Figure size 1000x400 with 1 Axes>"
      ]
     },
     "metadata": {},
     "output_type": "display_data"
    }
   ],
   "source": [
    "midspeedmonth = weather.groupby('month').agg({'wspeed':'mean'})\n",
    "num = np.arange(len(midspeedmonth.index.values))\n",
    "fig9 = plt.figure(figsize=(10, 4))\n",
    "fig9.suptitle('средняя сила ветра по месяцам',x=0.52,y=0.92, fontsize=12)\n",
    "ax_msm = fig9.add_subplot()\n",
    "ax_msm.bar(num, height=midspeedmonth['wspeed'].values)\n",
    "ax_msm.plot(num, np.full(12, midspeed), label='средняя скорость ветра', c='r')\n",
    "ax_msm.xaxis.set_major_locator(FixedLocator(num))\n",
    "ax_msm.xaxis.set_major_formatter(FixedFormatter([dictmonth[i+1]['a'] for i in num]))\n",
    "ax_msm.set_ylabel('метр/сек')\n",
    "dwpm = pd.read_json('study-of-the-Ryazan-weather/napravlenie_vetrov/dir_wind_percent_month.json')\n",
    "vesna = dwpm[['2', '3', '4', '5']].loc['Ш'].mean().round(2)\n",
    "leto = dwpm[['6', '7', '8', '9']].loc['Ш'].mean().round(2)\n",
    "ax_msm.text(11.9, 2.95,\\\n",
    "           f'сила ветра по месяцам выглядит синусоидой,\\\n",
    "\\nс апогеем в марте-апреле и затишьем в июле-августе.\\\n",
    "\\nв летние месяцы наблюдается больше штилей {leto}% против {vesna}%', fontsize=9, ha='right');\n",
    "ax_msm.legend(loc=3, framealpha=1);"
   ]
  },
  {
   "cell_type": "markdown",
   "id": "87f715b3",
   "metadata": {},
   "source": [
    "#### средняя сила ветра по временам года"
   ]
  },
  {
   "cell_type": "code",
   "execution_count": 89,
   "id": "482cd153",
   "metadata": {},
   "outputs": [
    {
     "data": {
      "text/html": [
       "<div>\n",
       "<style scoped>\n",
       "    .dataframe tbody tr th:only-of-type {\n",
       "        vertical-align: middle;\n",
       "    }\n",
       "\n",
       "    .dataframe tbody tr th {\n",
       "        vertical-align: top;\n",
       "    }\n",
       "\n",
       "    .dataframe thead th {\n",
       "        text-align: right;\n",
       "    }\n",
       "</style>\n",
       "<table border=\"1\" class=\"dataframe\">\n",
       "  <thead>\n",
       "    <tr style=\"text-align: right;\">\n",
       "      <th></th>\n",
       "      <th></th>\n",
       "      <th></th>\n",
       "      <th>t(day)</th>\n",
       "      <th>p(day)</th>\n",
       "      <th>t(night)</th>\n",
       "      <th>p(night)</th>\n",
       "      <th>wspeed</th>\n",
       "      <th>wdir</th>\n",
       "    </tr>\n",
       "    <tr>\n",
       "      <th>year</th>\n",
       "      <th>month</th>\n",
       "      <th>day</th>\n",
       "      <th></th>\n",
       "      <th></th>\n",
       "      <th></th>\n",
       "      <th></th>\n",
       "      <th></th>\n",
       "      <th></th>\n",
       "    </tr>\n",
       "  </thead>\n",
       "  <tbody>\n",
       "    <tr>\n",
       "      <th rowspan=\"5\" valign=\"top\">1997</th>\n",
       "      <th rowspan=\"5\" valign=\"top\">4</th>\n",
       "      <th>1</th>\n",
       "      <td>5</td>\n",
       "      <td>744</td>\n",
       "      <td>3</td>\n",
       "      <td>743</td>\n",
       "      <td>4</td>\n",
       "      <td>З</td>\n",
       "    </tr>\n",
       "    <tr>\n",
       "      <th>2</th>\n",
       "      <td>9</td>\n",
       "      <td>740</td>\n",
       "      <td>6</td>\n",
       "      <td>740</td>\n",
       "      <td>5</td>\n",
       "      <td>З</td>\n",
       "    </tr>\n",
       "    <tr>\n",
       "      <th>3</th>\n",
       "      <td>10</td>\n",
       "      <td>745</td>\n",
       "      <td>6</td>\n",
       "      <td>743</td>\n",
       "      <td>2</td>\n",
       "      <td>Ю</td>\n",
       "    </tr>\n",
       "    <tr>\n",
       "      <th>4</th>\n",
       "      <td>15</td>\n",
       "      <td>737</td>\n",
       "      <td>11</td>\n",
       "      <td>734</td>\n",
       "      <td>6</td>\n",
       "      <td>Ю</td>\n",
       "    </tr>\n",
       "    <tr>\n",
       "      <th>5</th>\n",
       "      <td>7</td>\n",
       "      <td>734</td>\n",
       "      <td>2</td>\n",
       "      <td>736</td>\n",
       "      <td>7</td>\n",
       "      <td>Ю</td>\n",
       "    </tr>\n",
       "    <tr>\n",
       "      <th>...</th>\n",
       "      <th>...</th>\n",
       "      <th>...</th>\n",
       "      <td>...</td>\n",
       "      <td>...</td>\n",
       "      <td>...</td>\n",
       "      <td>...</td>\n",
       "      <td>...</td>\n",
       "      <td>...</td>\n",
       "    </tr>\n",
       "    <tr>\n",
       "      <th rowspan=\"5\" valign=\"top\">2023</th>\n",
       "      <th rowspan=\"5\" valign=\"top\">7</th>\n",
       "      <th>27</th>\n",
       "      <td>29</td>\n",
       "      <td>741</td>\n",
       "      <td>26</td>\n",
       "      <td>740</td>\n",
       "      <td>2</td>\n",
       "      <td>Ю</td>\n",
       "    </tr>\n",
       "    <tr>\n",
       "      <th>28</th>\n",
       "      <td>31</td>\n",
       "      <td>737</td>\n",
       "      <td>21</td>\n",
       "      <td>740</td>\n",
       "      <td>5</td>\n",
       "      <td>Ю</td>\n",
       "    </tr>\n",
       "    <tr>\n",
       "      <th>29</th>\n",
       "      <td>18</td>\n",
       "      <td>739</td>\n",
       "      <td>16</td>\n",
       "      <td>739</td>\n",
       "      <td>2</td>\n",
       "      <td>СЗ</td>\n",
       "    </tr>\n",
       "    <tr>\n",
       "      <th>30</th>\n",
       "      <td>22</td>\n",
       "      <td>741</td>\n",
       "      <td>16</td>\n",
       "      <td>742</td>\n",
       "      <td>2</td>\n",
       "      <td>СЗ</td>\n",
       "    </tr>\n",
       "    <tr>\n",
       "      <th>31</th>\n",
       "      <td>26</td>\n",
       "      <td>743</td>\n",
       "      <td>17</td>\n",
       "      <td>744</td>\n",
       "      <td>2</td>\n",
       "      <td>З</td>\n",
       "    </tr>\n",
       "  </tbody>\n",
       "</table>\n",
       "<p>8759 rows × 6 columns</p>\n",
       "</div>"
      ],
      "text/plain": [
       "                t(day)  p(day)  t(night)  p(night)  wspeed wdir\n",
       "year month day                                                 \n",
       "1997 4     1         5     744         3       743       4    З\n",
       "           2         9     740         6       740       5    З\n",
       "           3        10     745         6       743       2    Ю\n",
       "           4        15     737        11       734       6    Ю\n",
       "           5         7     734         2       736       7    Ю\n",
       "...                ...     ...       ...       ...     ...  ...\n",
       "2023 7     27       29     741        26       740       2    Ю\n",
       "           28       31     737        21       740       5    Ю\n",
       "           29       18     739        16       739       2   СЗ\n",
       "           30       22     741        16       742       2   СЗ\n",
       "           31       26     743        17       744       2    З\n",
       "\n",
       "[8759 rows x 6 columns]"
      ]
     },
     "execution_count": 89,
     "metadata": {},
     "output_type": "execute_result"
    }
   ],
   "source": [
    "weather"
   ]
  },
  {
   "cell_type": "code",
   "execution_count": null,
   "id": "7f31264f",
   "metadata": {},
   "outputs": [],
   "source": []
  },
  {
   "cell_type": "code",
   "execution_count": null,
   "id": "1a8c3950",
   "metadata": {},
   "outputs": [],
   "source": []
  }
 ],
 "metadata": {
  "kernelspec": {
   "display_name": "Python 3 (ipykernel)",
   "language": "python",
   "name": "python3"
  },
  "language_info": {
   "codemirror_mode": {
    "name": "ipython",
    "version": 3
   },
   "file_extension": ".py",
   "mimetype": "text/x-python",
   "name": "python",
   "nbconvert_exporter": "python",
   "pygments_lexer": "ipython3",
   "version": "3.10.9"
  }
 },
 "nbformat": 4,
 "nbformat_minor": 5
}
