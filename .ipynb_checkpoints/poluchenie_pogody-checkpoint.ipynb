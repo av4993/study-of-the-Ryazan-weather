{
 "cells": [
  {
   "cell_type": "code",
   "execution_count": 1,
   "id": "cc3a7daa",
   "metadata": {},
   "outputs": [],
   "source": [
    "from selenium.webdriver.common.by import By\n",
    "from selenium import webdriver\n",
    "from selenium.webdriver.firefox.options import Options as firefoxOptions\n",
    "import pandas as pd\n",
    "import numpy as np\n",
    "from bs4 import BeautifulSoup"
   ]
  },
  {
   "cell_type": "markdown",
   "id": "5e7323dc",
   "metadata": {},
   "source": [
    "### получение погоды\n",
    "**Рязань**(city_code=4394)"
   ]
  },
  {
   "cell_type": "code",
   "execution_count": 2,
   "id": "355c821a",
   "metadata": {},
   "outputs": [],
   "source": [
    "col = ['year', 'month', 'day', 'td', 'pd', 'cloudd', 'precipd', 'windd', 'tn', 'pn', 'cloudn', 'precipn', 'windn']"
   ]
  },
  {
   "cell_type": "code",
   "execution_count": 3,
   "id": "7f63cda0",
   "metadata": {},
   "outputs": [],
   "source": [
    "def get_year_weather(year, mon_st=1, mon_fin=12, city_code=4394):\n",
    "    \n",
    "    url = \"http://www.gismeteo.ru/diary\"\n",
    "    weather = []\n",
    "    month_start = mon_st\n",
    "    while month_start <= mon_fin:\n",
    "        options = firefoxOptions()\n",
    "        options.add_argument('--headless')\n",
    "        options.add_argument(\"--no-sandbox\")\n",
    "        \n",
    "        browser = webdriver.Firefox(options=options)\n",
    "        browser.get(f\"{url}/{city_code}/{year}/{month_start}/\")\n",
    "        \n",
    "        soup = BeautifulSoup(browser.page_source, 'html5lib')\n",
    "        table = soup.find('table')\n",
    "                \n",
    "        day = [year, month_start]\n",
    "        for i in table.find_all('td'):\n",
    "            if len(day) == 13:\n",
    "                weather.append(day)\n",
    "                day = [year, month_start]\n",
    "            if len(i.text) == 0 and i.find('img', class_='label_icon label_small screen_icon') is not None:\n",
    "                day.append(str(i.find('img', class_='label_icon label_small screen_icon'))[88:].strip('png\"/>').strip('.'))\n",
    "            elif len(i.text) == 0 and i.find('img', class_='label_icon label_small screen_icon') is None:\n",
    "                day.append(np.nan)\n",
    "            if len(i.text) != 0:\n",
    "                day.append(i.text)\n",
    "        weather.append(day)\n",
    "        \n",
    "        month_start += 1\n",
    "        browser.quit()\n",
    "    weather = pd.DataFrame(weather, columns=col)\n",
    "    weather.to_csv(f'{year}_{mon_st}_{mon_fin}.csv')\n",
    "    print(f'{year} done!')"
   ]
  },
  {
   "cell_type": "code",
   "execution_count": null,
   "id": "5d4bff10",
   "metadata": {
    "scrolled": true
   },
   "outputs": [],
   "source": [
    "# for i in y:\n",
    "#     get_year_weather(2023, mon_st=1, mon_fin=10);"
   ]
  },
  {
   "cell_type": "markdown",
   "id": "57ce8b4a",
   "metadata": {},
   "source": [
    "##### и корректировка полученных данных с сохранением в data.csv"
   ]
  },
  {
   "cell_type": "code",
   "execution_count": 14,
   "id": "f7543e92",
   "metadata": {},
   "outputs": [],
   "source": [
    "# data = pd.read_csv('1997.csv', index_col=0)\n",
    "# weather = pd.read_csv('E:\\Jupyter\\pogoda\\study-of-the-Ryazan-weather\\weather.csv')\n",
    "# years = weather['year'].unique()\n",
    "# for i in years[1:]:\n",
    "#     data = pd.concat([data, pd.read_csv(f'{i}.csv', index_col=0)], axis=0)    "
   ]
  },
  {
   "cell_type": "code",
   "execution_count": 86,
   "id": "9578c74a",
   "metadata": {},
   "outputs": [],
   "source": [
    "#data.reset_index(drop=True).to_csv('data.csv')"
   ]
  },
  {
   "cell_type": "code",
   "execution_count": 32,
   "id": "1aa8058c",
   "metadata": {},
   "outputs": [],
   "source": [
    "# data.insert(loc=7, column='wdird', value=data['windd'].apply(lambda x: x.split()[0]))\n",
    "# data.insert(loc=8, column='wsd', value=data['windd'].apply(lambda x: x.split()[1].strip('м/с') if len(x.split())==2 else 0))\n",
    "# data.insert(loc=15, column='wdirn', value=data['windn'].apply(lambda x: x.split()[0]))\n",
    "# data.insert(loc=16, column='wsn', value=data['windn'].apply(lambda x: x.split()[1].strip('м/с') if len(x.split())==2 else 0))\n",
    "# data = data.replace('still.gif', np.NAN)\n",
    "# data['td'] = data['td'].apply(lambda x: str(x).strip('+'))\n",
    "# data['tn'] = data['tn'].apply(lambda x: str(x).strip('+'))\n",
    "# data['wsd'] = np.where(data['pd'].isna(), np.nan, data['wsd'])\n",
    "# data['wsn'] = np.where(data['tn'].isna(), np.NAN, data['wsn'])\n",
    "# data['cloudd'] = np.where(data['cloudd']=='—', np.NAN, data['cloudd'])\n",
    "# data['cloudn'] = np.where(data['cloudn']=='—', np.NAN, data['cloudn'])"
   ]
  },
  {
   "cell_type": "code",
   "execution_count": 3,
   "id": "27f42a93",
   "metadata": {},
   "outputs": [],
   "source": [
    "data = pd.read_csv('data.csv', index_col=0)"
   ]
  }
 ],
 "metadata": {
  "kernelspec": {
   "display_name": "Python 3 (ipykernel)",
   "language": "python",
   "name": "python3"
  },
  "language_info": {
   "codemirror_mode": {
    "name": "ipython",
    "version": 3
   },
   "file_extension": ".py",
   "mimetype": "text/x-python",
   "name": "python",
   "nbconvert_exporter": "python",
   "pygments_lexer": "ipython3",
   "version": "3.10.9"
  }
 },
 "nbformat": 4,
 "nbformat_minor": 5
}
